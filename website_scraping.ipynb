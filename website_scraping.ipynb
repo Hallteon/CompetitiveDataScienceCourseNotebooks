{
 "cells": [
  {
   "cell_type": "code",
   "execution_count": 36,
   "id": "5ba11940",
   "metadata": {},
   "outputs": [],
   "source": [
    "import pandas as pd\n",
    "import numpy as np\n",
    "import requests\n",
    "from bs4 import BeautifulSoup\n",
    "from tqdm import tqdm"
   ]
  },
  {
   "cell_type": "code",
   "execution_count": 70,
   "id": "5aa197c4",
   "metadata": {},
   "outputs": [
    {
     "data": {
      "text/html": [
       "<div>\n",
       "<style scoped>\n",
       "    .dataframe tbody tr th:only-of-type {\n",
       "        vertical-align: middle;\n",
       "    }\n",
       "\n",
       "    .dataframe tbody tr th {\n",
       "        vertical-align: top;\n",
       "    }\n",
       "\n",
       "    .dataframe thead th {\n",
       "        text-align: right;\n",
       "    }\n",
       "</style>\n",
       "<table border=\"1\" class=\"dataframe\">\n",
       "  <thead>\n",
       "    <tr style=\"text-align: right;\">\n",
       "      <th></th>\n",
       "      <th>city</th>\n",
       "      <th>district</th>\n",
       "      <th>mean_salary</th>\n",
       "    </tr>\n",
       "  </thead>\n",
       "  <tbody>\n",
       "  </tbody>\n",
       "</table>\n",
       "</div>"
      ],
      "text/plain": [
       "Empty DataFrame\n",
       "Columns: [city, district, mean_salary]\n",
       "Index: []"
      ]
     },
     "execution_count": 70,
     "metadata": {},
     "output_type": "execute_result"
    }
   ],
   "source": [
    "response = requests.get(\"https://bdex.ru/ratings/cities-salary/\")\n",
    "soup = BeautifulSoup(response.content)\n",
    "\n",
    "data = []\n",
    "\n",
    "for div in soup.find_all('div', class_='reg_name'):\n",
    "    print(div)\n",
    "    data.append((div.find('div', class_='reg_name').text, np.nan, int(div.find('span', class_='reg_salary').text.rstrip('₽').replace(u'\\xa0', u''))))\n",
    "\n",
    "data    \n",
    "    \n",
    "res = pd.DataFrame(data, columns=['city', 'district', 'mean_salary']).sort_values(by=['city']).reset_index(drop=True)\n",
    "res.loc[res['district'] == '', 'district'] = np.nan\n",
    "res.to_csv('salary_solution.csv', index=False)\n",
    "res.head()"
   ]
  },
  {
   "cell_type": "code",
   "execution_count": 65,
   "id": "fe0832c1",
   "metadata": {},
   "outputs": [
    {
     "data": {
      "text/html": [
       "<div>\n",
       "<style scoped>\n",
       "    .dataframe tbody tr th:only-of-type {\n",
       "        vertical-align: middle;\n",
       "    }\n",
       "\n",
       "    .dataframe tbody tr th {\n",
       "        vertical-align: top;\n",
       "    }\n",
       "\n",
       "    .dataframe thead th {\n",
       "        text-align: right;\n",
       "    }\n",
       "</style>\n",
       "<table border=\"1\" class=\"dataframe\">\n",
       "  <thead>\n",
       "    <tr style=\"text-align: right;\">\n",
       "      <th></th>\n",
       "      <th>city</th>\n",
       "      <th>district</th>\n",
       "      <th>mean_salary</th>\n",
       "    </tr>\n",
       "  </thead>\n",
       "  <tbody>\n",
       "  </tbody>\n",
       "</table>\n",
       "</div>"
      ],
      "text/plain": [
       "Empty DataFrame\n",
       "Columns: [city, district, mean_salary]\n",
       "Index: []"
      ]
     },
     "execution_count": 65,
     "metadata": {},
     "output_type": "execute_result"
    }
   ],
   "source": [
    "res"
   ]
  },
  {
   "cell_type": "code",
   "execution_count": 29,
   "id": "4e115045",
   "metadata": {},
   "outputs": [],
   "source": [
    "soup = BeautifulSoup(open('../data/salaries.html', 'rb').read(), 'lxml')"
   ]
  },
  {
   "cell_type": "code",
   "execution_count": 35,
   "id": "820724a3",
   "metadata": {},
   "outputs": [],
   "source": [
    "rates = soup.find_all('div', class_='block_rating')"
   ]
  },
  {
   "cell_type": "code",
   "execution_count": 49,
   "id": "359e6adf",
   "metadata": {},
   "outputs": [],
   "source": [
    "def get_ratings(ratings):\n",
    "    rating = {\n",
    "        'city': [],\n",
    "        'district': [],\n",
    "        'mean_salary': []\n",
    "    }\n",
    "    \n",
    "    for rate in ratings:\n",
    "        rating['city'].append(rate.find('div', class_='reg_name').text)\n",
    "        rating['mean_salary'].append(int(rate.find('span', class_='reg_salary').text.rstrip('₽').replace(u'\\xa0', u'')))\n",
    "        rating['district'].append(np.nan)\n",
    "    \n",
    "    return rating"
   ]
  },
  {
   "cell_type": "code",
   "execution_count": 50,
   "id": "fde0d544",
   "metadata": {},
   "outputs": [],
   "source": [
    "ratings = get_ratings(rates)"
   ]
  },
  {
   "cell_type": "code",
   "execution_count": 71,
   "id": "31b21fd1",
   "metadata": {},
   "outputs": [],
   "source": [
    "ratings_df = pd.DataFrame(ratings).sort_values(by=['city']).reset_index(drop=True)"
   ]
  },
  {
   "cell_type": "code",
   "execution_count": 73,
   "id": "4e329a37",
   "metadata": {},
   "outputs": [
    {
     "data": {
      "text/html": [
       "<div>\n",
       "<style scoped>\n",
       "    .dataframe tbody tr th:only-of-type {\n",
       "        vertical-align: middle;\n",
       "    }\n",
       "\n",
       "    .dataframe tbody tr th {\n",
       "        vertical-align: top;\n",
       "    }\n",
       "\n",
       "    .dataframe thead th {\n",
       "        text-align: right;\n",
       "    }\n",
       "</style>\n",
       "<table border=\"1\" class=\"dataframe\">\n",
       "  <thead>\n",
       "    <tr style=\"text-align: right;\">\n",
       "      <th></th>\n",
       "      <th>city</th>\n",
       "      <th>district</th>\n",
       "      <th>mean_salary</th>\n",
       "    </tr>\n",
       "  </thead>\n",
       "  <tbody>\n",
       "    <tr>\n",
       "      <th>0</th>\n",
       "      <td>Абакан</td>\n",
       "      <td>NaN</td>\n",
       "      <td>45300</td>\n",
       "    </tr>\n",
       "    <tr>\n",
       "      <th>1</th>\n",
       "      <td>Анадырь</td>\n",
       "      <td>NaN</td>\n",
       "      <td>129200</td>\n",
       "    </tr>\n",
       "    <tr>\n",
       "      <th>2</th>\n",
       "      <td>Ангарск</td>\n",
       "      <td>NaN</td>\n",
       "      <td>45600</td>\n",
       "    </tr>\n",
       "    <tr>\n",
       "      <th>3</th>\n",
       "      <td>Архангельск</td>\n",
       "      <td>NaN</td>\n",
       "      <td>53100</td>\n",
       "    </tr>\n",
       "    <tr>\n",
       "      <th>4</th>\n",
       "      <td>Астрахань</td>\n",
       "      <td>NaN</td>\n",
       "      <td>38000</td>\n",
       "    </tr>\n",
       "    <tr>\n",
       "      <th>...</th>\n",
       "      <td>...</td>\n",
       "      <td>...</td>\n",
       "      <td>...</td>\n",
       "    </tr>\n",
       "    <tr>\n",
       "      <th>95</th>\n",
       "      <td>Чита</td>\n",
       "      <td>NaN</td>\n",
       "      <td>47500</td>\n",
       "    </tr>\n",
       "    <tr>\n",
       "      <th>96</th>\n",
       "      <td>Элиста</td>\n",
       "      <td>NaN</td>\n",
       "      <td>31700</td>\n",
       "    </tr>\n",
       "    <tr>\n",
       "      <th>97</th>\n",
       "      <td>Южно-Сахалинск</td>\n",
       "      <td>NaN</td>\n",
       "      <td>99000</td>\n",
       "    </tr>\n",
       "    <tr>\n",
       "      <th>98</th>\n",
       "      <td>Якутск</td>\n",
       "      <td>NaN</td>\n",
       "      <td>74400</td>\n",
       "    </tr>\n",
       "    <tr>\n",
       "      <th>99</th>\n",
       "      <td>Ярославль</td>\n",
       "      <td>NaN</td>\n",
       "      <td>42000</td>\n",
       "    </tr>\n",
       "  </tbody>\n",
       "</table>\n",
       "<p>100 rows × 3 columns</p>\n",
       "</div>"
      ],
      "text/plain": [
       "              city  district  mean_salary\n",
       "0           Абакан       NaN        45300\n",
       "1          Анадырь       NaN       129200\n",
       "2          Ангарск       NaN        45600\n",
       "3      Архангельск       NaN        53100\n",
       "4        Астрахань       NaN        38000\n",
       "..             ...       ...          ...\n",
       "95            Чита       NaN        47500\n",
       "96          Элиста       NaN        31700\n",
       "97  Южно-Сахалинск       NaN        99000\n",
       "98          Якутск       NaN        74400\n",
       "99       Ярославль       NaN        42000\n",
       "\n",
       "[100 rows x 3 columns]"
      ]
     },
     "execution_count": 73,
     "metadata": {},
     "output_type": "execute_result"
    }
   ],
   "source": [
    "ratings_df"
   ]
  },
  {
   "cell_type": "code",
   "execution_count": 74,
   "id": "eaedeb3c",
   "metadata": {},
   "outputs": [],
   "source": [
    "ratings_df.to_csv('../data/mean_salaries.csv', index=False)"
   ]
  },
  {
   "cell_type": "code",
   "execution_count": null,
   "id": "a8ca5a1b",
   "metadata": {},
   "outputs": [],
   "source": []
  },
  {
   "cell_type": "code",
   "execution_count": null,
   "id": "dafe60e3",
   "metadata": {},
   "outputs": [],
   "source": []
  }
 ],
 "metadata": {
  "kernelspec": {
   "display_name": "Python 3 (ipykernel)",
   "language": "python",
   "name": "python3"
  },
  "language_info": {
   "codemirror_mode": {
    "name": "ipython",
    "version": 3
   },
   "file_extension": ".py",
   "mimetype": "text/x-python",
   "name": "python",
   "nbconvert_exporter": "python",
   "pygments_lexer": "ipython3",
   "version": "3.8.10"
  }
 },
 "nbformat": 4,
 "nbformat_minor": 5
}
