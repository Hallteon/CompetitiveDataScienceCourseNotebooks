{
 "cells": [
  {
   "cell_type": "code",
   "execution_count": 1,
   "id": "e608bb91",
   "metadata": {},
   "outputs": [],
   "source": [
    "import pandas as pd"
   ]
  },
  {
   "cell_type": "code",
   "execution_count": 33,
   "id": "3ed04c50",
   "metadata": {},
   "outputs": [],
   "source": [
    "df = pd.read_csv('../data/smolensk3.csv', sep=';', encoding='windows-1251')"
   ]
  },
  {
   "cell_type": "code",
   "execution_count": 35,
   "id": "104a026e",
   "metadata": {},
   "outputs": [
    {
     "data": {
      "text/html": [
       "<div>\n",
       "<style scoped>\n",
       "    .dataframe tbody tr th:only-of-type {\n",
       "        vertical-align: middle;\n",
       "    }\n",
       "\n",
       "    .dataframe tbody tr th {\n",
       "        vertical-align: top;\n",
       "    }\n",
       "\n",
       "    .dataframe thead th {\n",
       "        text-align: right;\n",
       "    }\n",
       "</style>\n",
       "<table border=\"1\" class=\"dataframe\">\n",
       "  <thead>\n",
       "    <tr style=\"text-align: right;\">\n",
       "      <th></th>\n",
       "      <th>num</th>\n",
       "      <th>fullname</th>\n",
       "      <th>name</th>\n",
       "      <th>head</th>\n",
       "      <th>address</th>\n",
       "      <th>telephone</th>\n",
       "      <th>email</th>\n",
       "    </tr>\n",
       "  </thead>\n",
       "  <tbody>\n",
       "    <tr>\n",
       "      <th>0</th>\n",
       "      <td>1</td>\n",
       "      <td>Муниципальное бюджетное учреждение культуры «Ц...</td>\n",
       "      <td>МБУК «ЦКС»</td>\n",
       "      <td>Матлетова Ирина Николаевна</td>\n",
       "      <td>215350 Смоленская область, Тёмкинский район, с...</td>\n",
       "      <td>8 (48136)2-12-91</td>\n",
       "      <td>domkyltyri2016@mail.ru</td>\n",
       "    </tr>\n",
       "    <tr>\n",
       "      <th>1</th>\n",
       "      <td>2</td>\n",
       "      <td>Муницапальное бюджетное учреждение культуры \"Т...</td>\n",
       "      <td>МБУК \"Тёмкинская МЦБС\"</td>\n",
       "      <td>Гусакова Елена Викторовна</td>\n",
       "      <td>215350, Смоленская область, с. Темкино, ул. Со...</td>\n",
       "      <td>8 (48136) 2-12-48</td>\n",
       "      <td>biblioteka.temkino@yandex.ru</td>\n",
       "    </tr>\n",
       "    <tr>\n",
       "      <th>2</th>\n",
       "      <td>3</td>\n",
       "      <td>МУНИЦИПАЛЬНОЕ БЮДЖЕТНОЕ УЧРЕЖДЕНИЕ ДОПОЛНИТЕЛЬ...</td>\n",
       "      <td>МБУДО Темкинский Дом творчества МО \"Темкинский...</td>\n",
       "      <td>Семёнова Наталья Викторовна</td>\n",
       "      <td>215350 Смоленская область, Темкинский район, с...</td>\n",
       "      <td>8(48136) 2-15-67</td>\n",
       "      <td>tdomtvorchestva@mail.ru</td>\n",
       "    </tr>\n",
       "    <tr>\n",
       "      <th>3</th>\n",
       "      <td>4</td>\n",
       "      <td>МУНИЦИПАЛЬНОЕ БЮДЖЕТНОЕ УЧРЕЖДЕНИЕ ДОПОЛНИТЕЛЬ...</td>\n",
       "      <td>МБУ ДО Темкинская ДМШ</td>\n",
       "      <td>Сидорович Владислав Петрович</td>\n",
       "      <td>215350, Смоленская область, Темкинский район, ...</td>\n",
       "      <td>8 (48136)21007</td>\n",
       "      <td>temkin56@mail.ru</td>\n",
       "    </tr>\n",
       "  </tbody>\n",
       "</table>\n",
       "</div>"
      ],
      "text/plain": [
       "   num                                           fullname  \\\n",
       "0    1  Муниципальное бюджетное учреждение культуры «Ц...   \n",
       "1    2  Муницапальное бюджетное учреждение культуры \"Т...   \n",
       "2    3  МУНИЦИПАЛЬНОЕ БЮДЖЕТНОЕ УЧРЕЖДЕНИЕ ДОПОЛНИТЕЛЬ...   \n",
       "3    4  МУНИЦИПАЛЬНОЕ БЮДЖЕТНОЕ УЧРЕЖДЕНИЕ ДОПОЛНИТЕЛЬ...   \n",
       "\n",
       "                                                name  \\\n",
       "0                                         МБУК «ЦКС»   \n",
       "1                             МБУК \"Тёмкинская МЦБС\"   \n",
       "2  МБУДО Темкинский Дом творчества МО \"Темкинский...   \n",
       "3                              МБУ ДО Темкинская ДМШ   \n",
       "\n",
       "                           head  \\\n",
       "0    Матлетова Ирина Николаевна   \n",
       "1     Гусакова Елена Викторовна   \n",
       "2   Семёнова Наталья Викторовна   \n",
       "3  Сидорович Владислав Петрович   \n",
       "\n",
       "                                             address          telephone  \\\n",
       "0  215350 Смоленская область, Тёмкинский район, с...   8 (48136)2-12-91   \n",
       "1  215350, Смоленская область, с. Темкино, ул. Со...  8 (48136) 2-12-48   \n",
       "2  215350 Смоленская область, Темкинский район, с...   8(48136) 2-15-67   \n",
       "3  215350, Смоленская область, Темкинский район, ...     8 (48136)21007   \n",
       "\n",
       "                          email  \n",
       "0        domkyltyri2016@mail.ru  \n",
       "1  biblioteka.temkino@yandex.ru  \n",
       "2       tdomtvorchestva@mail.ru  \n",
       "3              temkin56@mail.ru  "
      ]
     },
     "execution_count": 35,
     "metadata": {},
     "output_type": "execute_result"
    }
   ],
   "source": [
    "df"
   ]
  },
  {
   "cell_type": "code",
   "execution_count": 22,
   "id": "f81a5fe2",
   "metadata": {},
   "outputs": [
    {
     "name": "stdout",
     "output_type": "stream",
     "text": [
      "{'encoding': 'windows-1251', 'confidence': 0.9295167527897904, 'language': 'Russian'}\n"
     ]
    }
   ],
   "source": [
    "from chardet.universaldetector import UniversalDetector\n",
    "\n",
    "detector = UniversalDetector()\n",
    "with open('../data/smolensk.csv', 'rb') as fh:\n",
    "    for line in fh:\n",
    "        detector.feed(line)\n",
    "        if detector.done:\n",
    "            break\n",
    "    detector.close()\n",
    "print(detector.result)"
   ]
  }
 ],
 "metadata": {
  "kernelspec": {
   "display_name": "Python 3 (ipykernel)",
   "language": "python",
   "name": "python3"
  },
  "language_info": {
   "codemirror_mode": {
    "name": "ipython",
    "version": 3
   },
   "file_extension": ".py",
   "mimetype": "text/x-python",
   "name": "python",
   "nbconvert_exporter": "python",
   "pygments_lexer": "ipython3",
   "version": "3.8.10"
  }
 },
 "nbformat": 4,
 "nbformat_minor": 5
}
