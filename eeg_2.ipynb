{
 "cells": [
  {
   "cell_type": "code",
   "execution_count": 24,
   "id": "357f6bc4",
   "metadata": {},
   "outputs": [],
   "source": [
    "import optuna\n",
    "import shap\n",
    "import pandas as pd\n",
    "import numpy as np\n",
    "import matplotlib.pyplot as plt\n",
    "import seaborn as sns\n",
    "import lightgbm as lgb\n",
    "import xgboost as xgb\n",
    "import sklearn\n",
    "from math import sqrt\n",
    "from sklearn.feature_selection import SelectKBest\n",
    "from sklearn.feature_selection import f_classif\n",
    "from optuna.integration import CatBoostPruningCallback\n",
    "from catboost import CatBoostClassifier, Pool\n",
    "from lightgbm import LGBMClassifier\n",
    "from xgboost import XGBClassifier\n",
    "from sklearn import preprocessing\n",
    "from sklearn.metrics import confusion_matrix\n",
    "from sklearn.inspection import permutation_importance\n",
    "from sklearn.model_selection import train_test_split\n",
    "from sklearn.model_selection import KFold\n",
    "from sklearn.preprocessing import LabelEncoder\n",
    "from sklearn.metrics import mean_squared_error\n",
    "from sklearn.linear_model import LinearRegression, LassoCV\n",
    "from sklearn.pipeline import Pipeline, make_pipeline\n",
    "from sklearn.compose import ColumnTransformer, make_column_selector\n",
    "from sklearn.impute import SimpleImputer, KNNImputer\n",
    "from sklearn.feature_selection import SelectKBest, f_classif\n",
    "from sklearn.preprocessing import StandardScaler, RobustScaler, LabelEncoder, OneHotEncoder, MinMaxScaler\n",
    "from sklearn.ensemble import ExtraTreesClassifier, RandomForestClassifier, StackingClassifier\n",
    "from sklearn.linear_model import LogisticRegression\n",
    "from sklearn.neural_network import MLPClassifier\n",
    "from sklearn.svm import LinearSVC"
   ]
  },
  {
   "cell_type": "code",
   "execution_count": 25,
   "id": "70991af3",
   "metadata": {},
   "outputs": [],
   "source": [
    "train = pd.read_csv('../data/data_real_train.csv', sep=';')"
   ]
  },
  {
   "cell_type": "code",
   "execution_count": 26,
   "id": "c8eca03d",
   "metadata": {},
   "outputs": [],
   "source": [
    "test = pd.read_csv('../data/data_real_test.csv', sep=';')"
   ]
  },
  {
   "cell_type": "code",
   "execution_count": 27,
   "id": "9ece4056",
   "metadata": {},
   "outputs": [],
   "source": [
    "targets = ['class']\n",
    "features2drop = []\n",
    "filtered_features = [i for i in train.columns if (i not in targets and i not in features2drop)]"
   ]
  },
  {
   "cell_type": "code",
   "execution_count": 28,
   "id": "9ac3e7f3",
   "metadata": {},
   "outputs": [],
   "source": [
    "class_names = np.unique(train['class'])\n",
    "train['class'] = train['class'].replace(class_names, np.arange(train['class'].nunique()))"
   ]
  },
  {
   "cell_type": "code",
   "execution_count": 29,
   "id": "709b6739",
   "metadata": {},
   "outputs": [],
   "source": [
    "X = train[filtered_features].drop(targets, axis=1, errors='ignore')\n",
    "y = train['class']"
   ]
  },
  {
   "cell_type": "code",
   "execution_count": 30,
   "id": "cfebe6b3",
   "metadata": {},
   "outputs": [],
   "source": [
    "X_test = test[filtered_features]"
   ]
  },
  {
   "cell_type": "code",
   "execution_count": 31,
   "id": "d5adc28a",
   "metadata": {},
   "outputs": [],
   "source": [
    "params_cat = {\n",
    "             'n_estimators' : 200,\n",
    "              # 'learning_rate': .03,\n",
    "              'depth' : 3,\n",
    "              'verbose': False,\n",
    "              'use_best_model': True,\n",
    "              'text_features': [],\n",
    "              # 'train_dir' : '/home/jovyan/work/catboost',\n",
    "              'border_count' : 64,\n",
    "              'l2_leaf_reg' : 1,\n",
    "              'bagging_temperature' : 2,\n",
    "              'rsm' : 0.51,\n",
    "              'loss_function': 'MultiClass',\n",
    "              'auto_class_weights' : 'Balanced', #try not balanced\n",
    "              'random_state': 45,\n",
    "              'use_best_model': False,\n",
    "              # 'custom_metric' : ['AUC', 'MAP'] # Не работает внутри sklearn.Pipelines\n",
    "         }\n",
    "\n",
    "\n",
    "\n",
    "cat_model = CatBoostClassifier(**params_cat)"
   ]
  },
  {
   "cell_type": "code",
   "execution_count": 32,
   "id": "69a71c24",
   "metadata": {},
   "outputs": [
    {
     "data": {
      "text/plain": [
       "<catboost.core.CatBoostClassifier at 0x7fd64f004e50>"
      ]
     },
     "execution_count": 32,
     "metadata": {},
     "output_type": "execute_result"
    }
   ],
   "source": [
    "cat_model.fit(X, y)"
   ]
  },
  {
   "cell_type": "code",
   "execution_count": 33,
   "id": "174ee3f2",
   "metadata": {},
   "outputs": [],
   "source": [
    "test_predict = pd.DataFrame(cat_model.predict(X_test), columns=['class'])"
   ]
  },
  {
   "cell_type": "code",
   "execution_count": 35,
   "id": "49d4449e",
   "metadata": {},
   "outputs": [
    {
     "data": {
      "text/plain": [
       "0.7241379310344828"
      ]
     },
     "execution_count": 35,
     "metadata": {},
     "output_type": "execute_result"
    }
   ],
   "source": [
    "test_predict['class'].value_counts()[1] / test_predict['class'].value_counts()[0]"
   ]
  },
  {
   "cell_type": "code",
   "execution_count": 34,
   "id": "cfa977aa",
   "metadata": {},
   "outputs": [
    {
     "data": {
      "text/plain": [
       "'01100001010000010111000100110100100001111011010001'"
      ]
     },
     "execution_count": 34,
     "metadata": {},
     "output_type": "execute_result"
    }
   ],
   "source": [
    "''.join([str(i) for i in list(test_predict['class'])])"
   ]
  },
  {
   "cell_type": "code",
   "execution_count": null,
   "id": "385d18b3",
   "metadata": {},
   "outputs": [],
   "source": [
    "11010000000011000100001011010001100000011000011101\n",
    "11010000001011000100000010010001100001010000011111\n",
    "\n",
    "11000110001011100100011001010011100001000000011111\n",
    "11000010000111000100010001010001100001111000011111\n",
    "\n",
    "\n",
    "01100001010000010111000100110100100001111011010001\n",
    "01000001010000010110000110010100000001111001000111"
   ]
  }
 ],
 "metadata": {
  "kernelspec": {
   "display_name": "Python 3 (ipykernel)",
   "language": "python",
   "name": "python3"
  },
  "language_info": {
   "codemirror_mode": {
    "name": "ipython",
    "version": 3
   },
   "file_extension": ".py",
   "mimetype": "text/x-python",
   "name": "python",
   "nbconvert_exporter": "python",
   "pygments_lexer": "ipython3",
   "version": "3.8.10"
  }
 },
 "nbformat": 4,
 "nbformat_minor": 5
}
