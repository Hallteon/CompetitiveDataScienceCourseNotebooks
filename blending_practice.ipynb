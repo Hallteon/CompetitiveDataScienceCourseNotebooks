{
 "cells": [
  {
   "cell_type": "code",
   "execution_count": 81,
   "id": "7995d9e8",
   "metadata": {},
   "outputs": [],
   "source": [
    "import pandas as pd\n",
    "import numpy as np\n"
   ]
  },
  {
   "cell_type": "code",
   "execution_count": 82,
   "id": "263e24d1",
   "metadata": {
    "scrolled": true
   },
   "outputs": [
    {
     "ename": "KeyboardInterrupt",
     "evalue": "Interrupted by user",
     "output_type": "error",
     "traceback": [
      "\u001b[0;31m---------------------------------------------------------------------------\u001b[0m",
      "\u001b[0;31mKeyboardInterrupt\u001b[0m                         Traceback (most recent call last)",
      "Cell \u001b[0;32mIn[82], line 1\u001b[0m\n\u001b[0;32m----> 1\u001b[0m n \u001b[38;5;241m=\u001b[39m \u001b[38;5;28mint\u001b[39m(\u001b[38;5;28;43minput\u001b[39;49m\u001b[43m(\u001b[49m\u001b[43m)\u001b[49m)\n\u001b[1;32m      2\u001b[0m s \u001b[38;5;241m=\u001b[39m \u001b[38;5;28minput\u001b[39m()\u001b[38;5;241m.\u001b[39msplit()\n\u001b[1;32m      3\u001b[0m scores \u001b[38;5;241m=\u001b[39m [\u001b[38;5;28mfloat\u001b[39m(s[i]) \u001b[38;5;28;01mfor\u001b[39;00m i \u001b[38;5;129;01min\u001b[39;00m \u001b[38;5;28mrange\u001b[39m(n)]\n",
      "File \u001b[0;32m~/.local/lib/python3.8/site-packages/ipykernel/kernelbase.py:1202\u001b[0m, in \u001b[0;36mKernel.raw_input\u001b[0;34m(self, prompt)\u001b[0m\n\u001b[1;32m   1200\u001b[0m     msg \u001b[38;5;241m=\u001b[39m \u001b[38;5;124m\"\u001b[39m\u001b[38;5;124mraw_input was called, but this frontend does not support input requests.\u001b[39m\u001b[38;5;124m\"\u001b[39m\n\u001b[1;32m   1201\u001b[0m     \u001b[38;5;28;01mraise\u001b[39;00m StdinNotImplementedError(msg)\n\u001b[0;32m-> 1202\u001b[0m \u001b[38;5;28;01mreturn\u001b[39;00m \u001b[38;5;28;43mself\u001b[39;49m\u001b[38;5;241;43m.\u001b[39;49m\u001b[43m_input_request\u001b[49m\u001b[43m(\u001b[49m\n\u001b[1;32m   1203\u001b[0m \u001b[43m    \u001b[49m\u001b[38;5;28;43mstr\u001b[39;49m\u001b[43m(\u001b[49m\u001b[43mprompt\u001b[49m\u001b[43m)\u001b[49m\u001b[43m,\u001b[49m\n\u001b[1;32m   1204\u001b[0m \u001b[43m    \u001b[49m\u001b[38;5;28;43mself\u001b[39;49m\u001b[38;5;241;43m.\u001b[39;49m\u001b[43m_parent_ident\u001b[49m\u001b[43m[\u001b[49m\u001b[38;5;124;43m\"\u001b[39;49m\u001b[38;5;124;43mshell\u001b[39;49m\u001b[38;5;124;43m\"\u001b[39;49m\u001b[43m]\u001b[49m\u001b[43m,\u001b[49m\n\u001b[1;32m   1205\u001b[0m \u001b[43m    \u001b[49m\u001b[38;5;28;43mself\u001b[39;49m\u001b[38;5;241;43m.\u001b[39;49m\u001b[43mget_parent\u001b[49m\u001b[43m(\u001b[49m\u001b[38;5;124;43m\"\u001b[39;49m\u001b[38;5;124;43mshell\u001b[39;49m\u001b[38;5;124;43m\"\u001b[39;49m\u001b[43m)\u001b[49m\u001b[43m,\u001b[49m\n\u001b[1;32m   1206\u001b[0m \u001b[43m    \u001b[49m\u001b[43mpassword\u001b[49m\u001b[38;5;241;43m=\u001b[39;49m\u001b[38;5;28;43;01mFalse\u001b[39;49;00m\u001b[43m,\u001b[49m\n\u001b[1;32m   1207\u001b[0m \u001b[43m\u001b[49m\u001b[43m)\u001b[49m\n",
      "File \u001b[0;32m~/.local/lib/python3.8/site-packages/ipykernel/kernelbase.py:1245\u001b[0m, in \u001b[0;36mKernel._input_request\u001b[0;34m(self, prompt, ident, parent, password)\u001b[0m\n\u001b[1;32m   1242\u001b[0m \u001b[38;5;28;01mexcept\u001b[39;00m \u001b[38;5;167;01mKeyboardInterrupt\u001b[39;00m:\n\u001b[1;32m   1243\u001b[0m     \u001b[38;5;66;03m# re-raise KeyboardInterrupt, to truncate traceback\u001b[39;00m\n\u001b[1;32m   1244\u001b[0m     msg \u001b[38;5;241m=\u001b[39m \u001b[38;5;124m\"\u001b[39m\u001b[38;5;124mInterrupted by user\u001b[39m\u001b[38;5;124m\"\u001b[39m\n\u001b[0;32m-> 1245\u001b[0m     \u001b[38;5;28;01mraise\u001b[39;00m \u001b[38;5;167;01mKeyboardInterrupt\u001b[39;00m(msg) \u001b[38;5;28;01mfrom\u001b[39;00m \u001b[38;5;28;01mNone\u001b[39;00m\n\u001b[1;32m   1246\u001b[0m \u001b[38;5;28;01mexcept\u001b[39;00m \u001b[38;5;167;01mException\u001b[39;00m:\n\u001b[1;32m   1247\u001b[0m     \u001b[38;5;28mself\u001b[39m\u001b[38;5;241m.\u001b[39mlog\u001b[38;5;241m.\u001b[39mwarning(\u001b[38;5;124m\"\u001b[39m\u001b[38;5;124mInvalid Message:\u001b[39m\u001b[38;5;124m\"\u001b[39m, exc_info\u001b[38;5;241m=\u001b[39m\u001b[38;5;28;01mTrue\u001b[39;00m)\n",
      "\u001b[0;31mKeyboardInterrupt\u001b[0m: Interrupted by user"
     ]
    }
   ],
   "source": [
    "n = int(input())\n",
    "s = input().split()\n",
    "scores = [float(s[i]) for i in range(n)]\n",
    "scores_sum = sum(scores)\n",
    "weights = [round(score / scores_sum, 7) for score in scores]"
   ]
  },
  {
   "cell_type": "code",
   "execution_count": null,
   "id": "4c50b521",
   "metadata": {},
   "outputs": [],
   "source": [
    "weights"
   ]
  },
  {
   "cell_type": "code",
   "execution_count": null,
   "id": "59f32e51",
   "metadata": {},
   "outputs": [],
   "source": [
    "ensemble_predicts = pd.read_csv('https://stepik.org/media/attachments/lesson/825510/make_hard_blend.csv')"
   ]
  },
  {
   "cell_type": "code",
   "execution_count": null,
   "id": "8f2213c6",
   "metadata": {},
   "outputs": [],
   "source": [
    "ensemble_predicts['target_class'] = ensemble_predicts.apply(lambda x: max(set([x[f'model_{i}'] for i in range(1, 6)]), key=[x[f'model_{i}'] for i in range(1, 6)].count), axis=1)"
   ]
  },
  {
   "cell_type": "code",
   "execution_count": null,
   "id": "ab709845",
   "metadata": {},
   "outputs": [],
   "source": [
    "ensemble_predicts[['car_id', 'target_class']].to_csv('../data/blending_hard_voting.csv', index=False)"
   ]
  },
  {
   "cell_type": "code",
   "execution_count": null,
   "id": "6f3c2c8b",
   "metadata": {
    "scrolled": false
   },
   "outputs": [],
   "source": [
    "ensemble_predicts"
   ]
  },
  {
   "cell_type": "code",
   "execution_count": null,
   "id": "c5eea015",
   "metadata": {},
   "outputs": [],
   "source": []
  },
  {
   "cell_type": "code",
   "execution_count": 84,
   "id": "7f941b71",
   "metadata": {},
   "outputs": [],
   "source": [
    "catboost_preds = pd.read_csv('https://stepik.org/media/attachments/lesson/825510/catboost_preds.csv')\n",
    "lgb_preds = pd.read_csv('https://stepik.org/media/attachments/lesson/825510/lgbm_preds.csv')\n",
    "xgb_preds = pd.read_csv('https://stepik.org/media/attachments/lesson/825510/xgb_preds.csv')"
   ]
  },
  {
   "cell_type": "code",
   "execution_count": 85,
   "id": "dd171623",
   "metadata": {},
   "outputs": [],
   "source": [
    "preds = catboost_preds + lgb_preds + xgb_preds"
   ]
  },
  {
   "cell_type": "code",
   "execution_count": 86,
   "id": "719ceaa5",
   "metadata": {},
   "outputs": [],
   "source": [
    "preds['soft_preds'] = preds.idxmax(axis=1).apply(lambda x: x.rsplit('_proba')[0])"
   ]
  },
  {
   "cell_type": "code",
   "execution_count": 87,
   "id": "d395eb5f",
   "metadata": {},
   "outputs": [],
   "source": [
    "preds.to_csv('../data/soft_preds_data')"
   ]
  },
  {
   "cell_type": "code",
   "execution_count": 88,
   "id": "b1e88c06",
   "metadata": {},
   "outputs": [
    {
     "data": {
      "text/html": [
       "<div>\n",
       "<style scoped>\n",
       "    .dataframe tbody tr th:only-of-type {\n",
       "        vertical-align: middle;\n",
       "    }\n",
       "\n",
       "    .dataframe tbody tr th {\n",
       "        vertical-align: top;\n",
       "    }\n",
       "\n",
       "    .dataframe thead th {\n",
       "        text-align: right;\n",
       "    }\n",
       "</style>\n",
       "<table border=\"1\" class=\"dataframe\">\n",
       "  <thead>\n",
       "    <tr style=\"text-align: right;\">\n",
       "      <th></th>\n",
       "      <th>another_bug_proba</th>\n",
       "      <th>break_bug_proba</th>\n",
       "      <th>electro_bug_proba</th>\n",
       "      <th>engine_check_proba</th>\n",
       "      <th>engine_fuel_proba</th>\n",
       "      <th>engine_ignition_proba</th>\n",
       "      <th>engine_overheat_proba</th>\n",
       "      <th>gear_stick_proba</th>\n",
       "      <th>wheel_shake_proba</th>\n",
       "      <th>soft_preds</th>\n",
       "    </tr>\n",
       "  </thead>\n",
       "  <tbody>\n",
       "    <tr>\n",
       "      <th>0</th>\n",
       "      <td>0.337219</td>\n",
       "      <td>0.344227</td>\n",
       "      <td>0.353973</td>\n",
       "      <td>0.314100</td>\n",
       "      <td>0.346557</td>\n",
       "      <td>0.322595</td>\n",
       "      <td>0.336272</td>\n",
       "      <td>0.352935</td>\n",
       "      <td>0.292123</td>\n",
       "      <td>electro_bug</td>\n",
       "    </tr>\n",
       "    <tr>\n",
       "      <th>1</th>\n",
       "      <td>0.479751</td>\n",
       "      <td>0.442886</td>\n",
       "      <td>0.292707</td>\n",
       "      <td>0.333411</td>\n",
       "      <td>0.280346</td>\n",
       "      <td>0.284728</td>\n",
       "      <td>0.328361</td>\n",
       "      <td>0.325581</td>\n",
       "      <td>0.232230</td>\n",
       "      <td>another_bug</td>\n",
       "    </tr>\n",
       "    <tr>\n",
       "      <th>2</th>\n",
       "      <td>0.348240</td>\n",
       "      <td>0.342305</td>\n",
       "      <td>0.317633</td>\n",
       "      <td>0.329424</td>\n",
       "      <td>0.307271</td>\n",
       "      <td>0.362316</td>\n",
       "      <td>0.348468</td>\n",
       "      <td>0.359000</td>\n",
       "      <td>0.285343</td>\n",
       "      <td>engine_ignition</td>\n",
       "    </tr>\n",
       "    <tr>\n",
       "      <th>3</th>\n",
       "      <td>0.339210</td>\n",
       "      <td>0.347235</td>\n",
       "      <td>0.317740</td>\n",
       "      <td>0.374427</td>\n",
       "      <td>0.301501</td>\n",
       "      <td>0.341304</td>\n",
       "      <td>0.311298</td>\n",
       "      <td>0.377495</td>\n",
       "      <td>0.289790</td>\n",
       "      <td>gear_stick</td>\n",
       "    </tr>\n",
       "    <tr>\n",
       "      <th>4</th>\n",
       "      <td>0.359307</td>\n",
       "      <td>0.372359</td>\n",
       "      <td>0.335765</td>\n",
       "      <td>0.314143</td>\n",
       "      <td>0.331229</td>\n",
       "      <td>0.346983</td>\n",
       "      <td>0.335586</td>\n",
       "      <td>0.364043</td>\n",
       "      <td>0.240584</td>\n",
       "      <td>break_bug</td>\n",
       "    </tr>\n",
       "    <tr>\n",
       "      <th>...</th>\n",
       "      <td>...</td>\n",
       "      <td>...</td>\n",
       "      <td>...</td>\n",
       "      <td>...</td>\n",
       "      <td>...</td>\n",
       "      <td>...</td>\n",
       "      <td>...</td>\n",
       "      <td>...</td>\n",
       "      <td>...</td>\n",
       "      <td>...</td>\n",
       "    </tr>\n",
       "    <tr>\n",
       "      <th>580</th>\n",
       "      <td>0.369099</td>\n",
       "      <td>0.341373</td>\n",
       "      <td>0.305871</td>\n",
       "      <td>0.342375</td>\n",
       "      <td>0.330898</td>\n",
       "      <td>0.326672</td>\n",
       "      <td>0.325671</td>\n",
       "      <td>0.366269</td>\n",
       "      <td>0.291773</td>\n",
       "      <td>another_bug</td>\n",
       "    </tr>\n",
       "    <tr>\n",
       "      <th>581</th>\n",
       "      <td>0.339598</td>\n",
       "      <td>0.333036</td>\n",
       "      <td>0.288180</td>\n",
       "      <td>0.336054</td>\n",
       "      <td>0.308584</td>\n",
       "      <td>0.371604</td>\n",
       "      <td>0.303122</td>\n",
       "      <td>0.416257</td>\n",
       "      <td>0.303565</td>\n",
       "      <td>gear_stick</td>\n",
       "    </tr>\n",
       "    <tr>\n",
       "      <th>582</th>\n",
       "      <td>0.331052</td>\n",
       "      <td>0.395528</td>\n",
       "      <td>0.270822</td>\n",
       "      <td>0.383494</td>\n",
       "      <td>0.339379</td>\n",
       "      <td>0.317954</td>\n",
       "      <td>0.315611</td>\n",
       "      <td>0.353631</td>\n",
       "      <td>0.292527</td>\n",
       "      <td>break_bug</td>\n",
       "    </tr>\n",
       "    <tr>\n",
       "      <th>583</th>\n",
       "      <td>0.324123</td>\n",
       "      <td>0.358697</td>\n",
       "      <td>0.324760</td>\n",
       "      <td>0.341667</td>\n",
       "      <td>0.334138</td>\n",
       "      <td>0.321043</td>\n",
       "      <td>0.351365</td>\n",
       "      <td>0.364555</td>\n",
       "      <td>0.279653</td>\n",
       "      <td>gear_stick</td>\n",
       "    </tr>\n",
       "    <tr>\n",
       "      <th>584</th>\n",
       "      <td>0.349315</td>\n",
       "      <td>0.322591</td>\n",
       "      <td>0.336956</td>\n",
       "      <td>0.310356</td>\n",
       "      <td>0.332320</td>\n",
       "      <td>0.335514</td>\n",
       "      <td>0.325266</td>\n",
       "      <td>0.367140</td>\n",
       "      <td>0.320544</td>\n",
       "      <td>gear_stick</td>\n",
       "    </tr>\n",
       "  </tbody>\n",
       "</table>\n",
       "<p>585 rows × 10 columns</p>\n",
       "</div>"
      ],
      "text/plain": [
       "     another_bug_proba  break_bug_proba  electro_bug_proba  \\\n",
       "0             0.337219         0.344227           0.353973   \n",
       "1             0.479751         0.442886           0.292707   \n",
       "2             0.348240         0.342305           0.317633   \n",
       "3             0.339210         0.347235           0.317740   \n",
       "4             0.359307         0.372359           0.335765   \n",
       "..                 ...              ...                ...   \n",
       "580           0.369099         0.341373           0.305871   \n",
       "581           0.339598         0.333036           0.288180   \n",
       "582           0.331052         0.395528           0.270822   \n",
       "583           0.324123         0.358697           0.324760   \n",
       "584           0.349315         0.322591           0.336956   \n",
       "\n",
       "     engine_check_proba  engine_fuel_proba  engine_ignition_proba  \\\n",
       "0              0.314100           0.346557               0.322595   \n",
       "1              0.333411           0.280346               0.284728   \n",
       "2              0.329424           0.307271               0.362316   \n",
       "3              0.374427           0.301501               0.341304   \n",
       "4              0.314143           0.331229               0.346983   \n",
       "..                  ...                ...                    ...   \n",
       "580            0.342375           0.330898               0.326672   \n",
       "581            0.336054           0.308584               0.371604   \n",
       "582            0.383494           0.339379               0.317954   \n",
       "583            0.341667           0.334138               0.321043   \n",
       "584            0.310356           0.332320               0.335514   \n",
       "\n",
       "     engine_overheat_proba  gear_stick_proba  wheel_shake_proba  \\\n",
       "0                 0.336272          0.352935           0.292123   \n",
       "1                 0.328361          0.325581           0.232230   \n",
       "2                 0.348468          0.359000           0.285343   \n",
       "3                 0.311298          0.377495           0.289790   \n",
       "4                 0.335586          0.364043           0.240584   \n",
       "..                     ...               ...                ...   \n",
       "580               0.325671          0.366269           0.291773   \n",
       "581               0.303122          0.416257           0.303565   \n",
       "582               0.315611          0.353631           0.292527   \n",
       "583               0.351365          0.364555           0.279653   \n",
       "584               0.325266          0.367140           0.320544   \n",
       "\n",
       "          soft_preds  \n",
       "0        electro_bug  \n",
       "1        another_bug  \n",
       "2    engine_ignition  \n",
       "3         gear_stick  \n",
       "4          break_bug  \n",
       "..               ...  \n",
       "580      another_bug  \n",
       "581       gear_stick  \n",
       "582        break_bug  \n",
       "583       gear_stick  \n",
       "584       gear_stick  \n",
       "\n",
       "[585 rows x 10 columns]"
      ]
     },
     "execution_count": 88,
     "metadata": {},
     "output_type": "execute_result"
    }
   ],
   "source": [
    "preds"
   ]
  },
  {
   "cell_type": "code",
   "execution_count": 93,
   "id": "a68e9f1a",
   "metadata": {},
   "outputs": [
    {
     "data": {
      "text/plain": [
       "585"
      ]
     },
     "execution_count": 93,
     "metadata": {},
     "output_type": "execute_result"
    }
   ],
   "source": [
    "len(preds)"
   ]
  },
  {
   "cell_type": "code",
   "execution_count": null,
   "id": "22042657",
   "metadata": {},
   "outputs": [],
   "source": [
    "df = pd.DataFrame"
   ]
  },
  {
   "cell_type": "code",
   "execution_count": null,
   "id": "c677a260",
   "metadata": {},
   "outputs": [],
   "source": [
    "df['rank'] = df.apply(lambda x: df['proba'].value_counts().get(x['proba']), axis=1)\n",
    "df['normalized_proba'] = df['rank'] / 5"
   ]
  },
  {
   "cell_type": "code",
   "execution_count": null,
   "id": "c564587e",
   "metadata": {},
   "outputs": [],
   "source": []
  },
  {
   "cell_type": "code",
   "execution_count": 282,
   "id": "82ece041",
   "metadata": {},
   "outputs": [],
   "source": [
    "d = {'id': [0, 1, 2, 3, 4], 'proba1': [0.148207, 0.821720, 0.123371, 0.977640, 0.267806], 'proba2': [0.768743, 0.095749, 0.268414, 0.538099, 0.671564], 'proba3': [0.324550, 0.271743, 0.183569, 0.560661, 0.818800]}\n",
    "df = pd.DataFrame(data=d)"
   ]
  },
  {
   "cell_type": "code",
   "execution_count": 283,
   "id": "be4d4978",
   "metadata": {},
   "outputs": [],
   "source": [
    "normalized_prob = df.drop(['id'], axis=1).rank(ascending=True, pct=True)\n",
    "df['mean_rank'] = normalized_prob.mean(axis=1)"
   ]
  },
  {
   "cell_type": "code",
   "execution_count": 284,
   "id": "5237b73f",
   "metadata": {},
   "outputs": [
    {
     "data": {
      "text/html": [
       "<div>\n",
       "<style scoped>\n",
       "    .dataframe tbody tr th:only-of-type {\n",
       "        vertical-align: middle;\n",
       "    }\n",
       "\n",
       "    .dataframe tbody tr th {\n",
       "        vertical-align: top;\n",
       "    }\n",
       "\n",
       "    .dataframe thead th {\n",
       "        text-align: right;\n",
       "    }\n",
       "</style>\n",
       "<table border=\"1\" class=\"dataframe\">\n",
       "  <thead>\n",
       "    <tr style=\"text-align: right;\">\n",
       "      <th></th>\n",
       "      <th>id</th>\n",
       "      <th>proba1</th>\n",
       "      <th>proba2</th>\n",
       "      <th>proba3</th>\n",
       "      <th>mean_rank</th>\n",
       "    </tr>\n",
       "  </thead>\n",
       "  <tbody>\n",
       "    <tr>\n",
       "      <th>0</th>\n",
       "      <td>0</td>\n",
       "      <td>0.148207</td>\n",
       "      <td>0.768743</td>\n",
       "      <td>0.324550</td>\n",
       "      <td>0.666667</td>\n",
       "    </tr>\n",
       "    <tr>\n",
       "      <th>1</th>\n",
       "      <td>1</td>\n",
       "      <td>0.821720</td>\n",
       "      <td>0.095749</td>\n",
       "      <td>0.271743</td>\n",
       "      <td>0.466667</td>\n",
       "    </tr>\n",
       "    <tr>\n",
       "      <th>2</th>\n",
       "      <td>2</td>\n",
       "      <td>0.123371</td>\n",
       "      <td>0.268414</td>\n",
       "      <td>0.183569</td>\n",
       "      <td>0.266667</td>\n",
       "    </tr>\n",
       "    <tr>\n",
       "      <th>3</th>\n",
       "      <td>3</td>\n",
       "      <td>0.977640</td>\n",
       "      <td>0.538099</td>\n",
       "      <td>0.560661</td>\n",
       "      <td>0.800000</td>\n",
       "    </tr>\n",
       "    <tr>\n",
       "      <th>4</th>\n",
       "      <td>4</td>\n",
       "      <td>0.267806</td>\n",
       "      <td>0.671564</td>\n",
       "      <td>0.818800</td>\n",
       "      <td>0.800000</td>\n",
       "    </tr>\n",
       "  </tbody>\n",
       "</table>\n",
       "</div>"
      ],
      "text/plain": [
       "   id    proba1    proba2    proba3  mean_rank\n",
       "0   0  0.148207  0.768743  0.324550   0.666667\n",
       "1   1  0.821720  0.095749  0.271743   0.466667\n",
       "2   2  0.123371  0.268414  0.183569   0.266667\n",
       "3   3  0.977640  0.538099  0.560661   0.800000\n",
       "4   4  0.267806  0.671564  0.818800   0.800000"
      ]
     },
     "execution_count": 284,
     "metadata": {},
     "output_type": "execute_result"
    }
   ],
   "source": [
    "df"
   ]
  },
  {
   "cell_type": "code",
   "execution_count": 277,
   "id": "43847a2c",
   "metadata": {},
   "outputs": [
    {
     "data": {
      "text/html": [
       "<div>\n",
       "<style scoped>\n",
       "    .dataframe tbody tr th:only-of-type {\n",
       "        vertical-align: middle;\n",
       "    }\n",
       "\n",
       "    .dataframe tbody tr th {\n",
       "        vertical-align: top;\n",
       "    }\n",
       "\n",
       "    .dataframe thead th {\n",
       "        text-align: right;\n",
       "    }\n",
       "</style>\n",
       "<table border=\"1\" class=\"dataframe\">\n",
       "  <thead>\n",
       "    <tr style=\"text-align: right;\">\n",
       "      <th></th>\n",
       "      <th>proba1</th>\n",
       "      <th>proba2</th>\n",
       "      <th>proba3</th>\n",
       "      <th>mean_rank</th>\n",
       "    </tr>\n",
       "  </thead>\n",
       "  <tbody>\n",
       "    <tr>\n",
       "      <th>0</th>\n",
       "      <td>0.4</td>\n",
       "      <td>1.0</td>\n",
       "      <td>0.6</td>\n",
       "      <td>NaN</td>\n",
       "    </tr>\n",
       "    <tr>\n",
       "      <th>1</th>\n",
       "      <td>0.8</td>\n",
       "      <td>0.2</td>\n",
       "      <td>0.4</td>\n",
       "      <td>NaN</td>\n",
       "    </tr>\n",
       "    <tr>\n",
       "      <th>2</th>\n",
       "      <td>0.2</td>\n",
       "      <td>0.4</td>\n",
       "      <td>0.2</td>\n",
       "      <td>NaN</td>\n",
       "    </tr>\n",
       "    <tr>\n",
       "      <th>3</th>\n",
       "      <td>1.0</td>\n",
       "      <td>0.6</td>\n",
       "      <td>0.8</td>\n",
       "      <td>NaN</td>\n",
       "    </tr>\n",
       "    <tr>\n",
       "      <th>4</th>\n",
       "      <td>0.6</td>\n",
       "      <td>0.8</td>\n",
       "      <td>1.0</td>\n",
       "      <td>NaN</td>\n",
       "    </tr>\n",
       "  </tbody>\n",
       "</table>\n",
       "</div>"
      ],
      "text/plain": [
       "   proba1  proba2  proba3  mean_rank\n",
       "0     0.4     1.0     0.6        NaN\n",
       "1     0.8     0.2     0.4        NaN\n",
       "2     0.2     0.4     0.2        NaN\n",
       "3     1.0     0.6     0.8        NaN\n",
       "4     0.6     0.8     1.0        NaN"
      ]
     },
     "execution_count": 277,
     "metadata": {},
     "output_type": "execute_result"
    }
   ],
   "source": [
    "normalized_prob"
   ]
  },
  {
   "cell_type": "code",
   "execution_count": 251,
   "id": "1792e504",
   "metadata": {},
   "outputs": [],
   "source": [
    "df['mean_rank'] = np.mean(df.drop(['id'], axis=1).rank(pct=True)"
   ]
  },
  {
   "cell_type": "code",
   "execution_count": 246,
   "id": "b7481580",
   "metadata": {},
   "outputs": [
    {
     "data": {
      "text/html": [
       "<div>\n",
       "<style scoped>\n",
       "    .dataframe tbody tr th:only-of-type {\n",
       "        vertical-align: middle;\n",
       "    }\n",
       "\n",
       "    .dataframe tbody tr th {\n",
       "        vertical-align: top;\n",
       "    }\n",
       "\n",
       "    .dataframe thead th {\n",
       "        text-align: right;\n",
       "    }\n",
       "</style>\n",
       "<table border=\"1\" class=\"dataframe\">\n",
       "  <thead>\n",
       "    <tr style=\"text-align: right;\">\n",
       "      <th></th>\n",
       "      <th>id</th>\n",
       "      <th>proba1</th>\n",
       "      <th>proba2</th>\n",
       "      <th>proba3</th>\n",
       "    </tr>\n",
       "  </thead>\n",
       "  <tbody>\n",
       "    <tr>\n",
       "      <th>0</th>\n",
       "      <td>0</td>\n",
       "      <td>0.148207</td>\n",
       "      <td>0.768743</td>\n",
       "      <td>0.324550</td>\n",
       "    </tr>\n",
       "    <tr>\n",
       "      <th>1</th>\n",
       "      <td>1</td>\n",
       "      <td>0.821720</td>\n",
       "      <td>0.095749</td>\n",
       "      <td>0.271743</td>\n",
       "    </tr>\n",
       "    <tr>\n",
       "      <th>2</th>\n",
       "      <td>2</td>\n",
       "      <td>0.123371</td>\n",
       "      <td>0.268414</td>\n",
       "      <td>0.183569</td>\n",
       "    </tr>\n",
       "    <tr>\n",
       "      <th>3</th>\n",
       "      <td>3</td>\n",
       "      <td>0.977640</td>\n",
       "      <td>0.538099</td>\n",
       "      <td>0.560661</td>\n",
       "    </tr>\n",
       "    <tr>\n",
       "      <th>4</th>\n",
       "      <td>4</td>\n",
       "      <td>0.267806</td>\n",
       "      <td>0.671564</td>\n",
       "      <td>0.818800</td>\n",
       "    </tr>\n",
       "  </tbody>\n",
       "</table>\n",
       "</div>"
      ],
      "text/plain": [
       "   id    proba1    proba2    proba3\n",
       "0   0  0.148207  0.768743  0.324550\n",
       "1   1  0.821720  0.095749  0.271743\n",
       "2   2  0.123371  0.268414  0.183569\n",
       "3   3  0.977640  0.538099  0.560661\n",
       "4   4  0.267806  0.671564  0.818800"
      ]
     },
     "execution_count": 246,
     "metadata": {},
     "output_type": "execute_result"
    }
   ],
   "source": [
    "df"
   ]
  },
  {
   "cell_type": "code",
   "execution_count": 252,
   "id": "ba571439",
   "metadata": {},
   "outputs": [
    {
     "data": {
      "text/html": [
       "<div>\n",
       "<style scoped>\n",
       "    .dataframe tbody tr th:only-of-type {\n",
       "        vertical-align: middle;\n",
       "    }\n",
       "\n",
       "    .dataframe tbody tr th {\n",
       "        vertical-align: top;\n",
       "    }\n",
       "\n",
       "    .dataframe thead th {\n",
       "        text-align: right;\n",
       "    }\n",
       "</style>\n",
       "<table border=\"1\" class=\"dataframe\">\n",
       "  <thead>\n",
       "    <tr style=\"text-align: right;\">\n",
       "      <th></th>\n",
       "      <th>id</th>\n",
       "      <th>proba1</th>\n",
       "      <th>proba2</th>\n",
       "      <th>proba3</th>\n",
       "      <th>mean_rank</th>\n",
       "    </tr>\n",
       "  </thead>\n",
       "  <tbody>\n",
       "    <tr>\n",
       "      <th>0</th>\n",
       "      <td>0</td>\n",
       "      <td>0.148207</td>\n",
       "      <td>0.768743</td>\n",
       "      <td>0.324550</td>\n",
       "      <td>NaN</td>\n",
       "    </tr>\n",
       "    <tr>\n",
       "      <th>1</th>\n",
       "      <td>1</td>\n",
       "      <td>0.821720</td>\n",
       "      <td>0.095749</td>\n",
       "      <td>0.271743</td>\n",
       "      <td>NaN</td>\n",
       "    </tr>\n",
       "    <tr>\n",
       "      <th>2</th>\n",
       "      <td>2</td>\n",
       "      <td>0.123371</td>\n",
       "      <td>0.268414</td>\n",
       "      <td>0.183569</td>\n",
       "      <td>NaN</td>\n",
       "    </tr>\n",
       "    <tr>\n",
       "      <th>3</th>\n",
       "      <td>3</td>\n",
       "      <td>0.977640</td>\n",
       "      <td>0.538099</td>\n",
       "      <td>0.560661</td>\n",
       "      <td>NaN</td>\n",
       "    </tr>\n",
       "    <tr>\n",
       "      <th>4</th>\n",
       "      <td>4</td>\n",
       "      <td>0.267806</td>\n",
       "      <td>0.671564</td>\n",
       "      <td>0.818800</td>\n",
       "      <td>NaN</td>\n",
       "    </tr>\n",
       "  </tbody>\n",
       "</table>\n",
       "</div>"
      ],
      "text/plain": [
       "   id    proba1    proba2    proba3  mean_rank\n",
       "0   0  0.148207  0.768743  0.324550        NaN\n",
       "1   1  0.821720  0.095749  0.271743        NaN\n",
       "2   2  0.123371  0.268414  0.183569        NaN\n",
       "3   3  0.977640  0.538099  0.560661        NaN\n",
       "4   4  0.267806  0.671564  0.818800        NaN"
      ]
     },
     "execution_count": 252,
     "metadata": {},
     "output_type": "execute_result"
    }
   ],
   "source": [
    "df"
   ]
  },
  {
   "cell_type": "code",
   "execution_count": 145,
   "id": "e7169985",
   "metadata": {},
   "outputs": [],
   "source": [
    "for i in range(1, 3):\n",
    "    df[f'rank{i}'] = df[f'proba{i}'].rank(ascending=True)"
   ]
  },
  {
   "cell_type": "code",
   "execution_count": 146,
   "id": "df420b68",
   "metadata": {},
   "outputs": [],
   "source": [
    "df['mean_rank'] = np.mean([df[f'rank{i}'] for i in range(1, 3)])"
   ]
  },
  {
   "cell_type": "code",
   "execution_count": 147,
   "id": "54da0b2b",
   "metadata": {},
   "outputs": [
    {
     "data": {
      "text/html": [
       "<div>\n",
       "<style scoped>\n",
       "    .dataframe tbody tr th:only-of-type {\n",
       "        vertical-align: middle;\n",
       "    }\n",
       "\n",
       "    .dataframe tbody tr th {\n",
       "        vertical-align: top;\n",
       "    }\n",
       "\n",
       "    .dataframe thead th {\n",
       "        text-align: right;\n",
       "    }\n",
       "</style>\n",
       "<table border=\"1\" class=\"dataframe\">\n",
       "  <thead>\n",
       "    <tr style=\"text-align: right;\">\n",
       "      <th></th>\n",
       "      <th>id</th>\n",
       "      <th>proba1</th>\n",
       "      <th>proba2</th>\n",
       "      <th>proba3</th>\n",
       "      <th>mean_rank</th>\n",
       "      <th>rank1</th>\n",
       "      <th>rank2</th>\n",
       "    </tr>\n",
       "  </thead>\n",
       "  <tbody>\n",
       "    <tr>\n",
       "      <th>0</th>\n",
       "      <td>1</td>\n",
       "      <td>0.148207</td>\n",
       "      <td>0.768743</td>\n",
       "      <td>0.32455</td>\n",
       "      <td>1.5</td>\n",
       "      <td>2.0</td>\n",
       "      <td>2.0</td>\n",
       "    </tr>\n",
       "    <tr>\n",
       "      <th>1</th>\n",
       "      <td>2</td>\n",
       "      <td>0.118323</td>\n",
       "      <td>0.452743</td>\n",
       "      <td>0.42155</td>\n",
       "      <td>1.5</td>\n",
       "      <td>1.0</td>\n",
       "      <td>1.0</td>\n",
       "    </tr>\n",
       "  </tbody>\n",
       "</table>\n",
       "</div>"
      ],
      "text/plain": [
       "   id    proba1    proba2   proba3  mean_rank  rank1  rank2\n",
       "0   1  0.148207  0.768743  0.32455        1.5    2.0    2.0\n",
       "1   2  0.118323  0.452743  0.42155        1.5    1.0    1.0"
      ]
     },
     "execution_count": 147,
     "metadata": {},
     "output_type": "execute_result"
    }
   ],
   "source": [
    "df"
   ]
  },
  {
   "cell_type": "code",
   "execution_count": 141,
   "id": "b63bedd9",
   "metadata": {},
   "outputs": [],
   "source": [
    "ranks = df.drop(['id'], axis=1).rank(ascending=True)\n",
    "df['mean_rank'] = ranks.apply(lambda x: np.mean([x['proba1'], x['proba2'], x['proba3']]), axis=1)"
   ]
  },
  {
   "cell_type": "code",
   "execution_count": 142,
   "id": "e6c83915",
   "metadata": {},
   "outputs": [
    {
     "data": {
      "text/html": [
       "<div>\n",
       "<style scoped>\n",
       "    .dataframe tbody tr th:only-of-type {\n",
       "        vertical-align: middle;\n",
       "    }\n",
       "\n",
       "    .dataframe tbody tr th {\n",
       "        vertical-align: top;\n",
       "    }\n",
       "\n",
       "    .dataframe thead th {\n",
       "        text-align: right;\n",
       "    }\n",
       "</style>\n",
       "<table border=\"1\" class=\"dataframe\">\n",
       "  <thead>\n",
       "    <tr style=\"text-align: right;\">\n",
       "      <th></th>\n",
       "      <th>proba1</th>\n",
       "      <th>proba2</th>\n",
       "      <th>proba3</th>\n",
       "    </tr>\n",
       "  </thead>\n",
       "  <tbody>\n",
       "    <tr>\n",
       "      <th>0</th>\n",
       "      <td>2.0</td>\n",
       "      <td>2.0</td>\n",
       "      <td>1.0</td>\n",
       "    </tr>\n",
       "    <tr>\n",
       "      <th>1</th>\n",
       "      <td>1.0</td>\n",
       "      <td>1.0</td>\n",
       "      <td>2.0</td>\n",
       "    </tr>\n",
       "  </tbody>\n",
       "</table>\n",
       "</div>"
      ],
      "text/plain": [
       "   proba1  proba2  proba3\n",
       "0     2.0     2.0     1.0\n",
       "1     1.0     1.0     2.0"
      ]
     },
     "execution_count": 142,
     "metadata": {},
     "output_type": "execute_result"
    }
   ],
   "source": [
    "ranks"
   ]
  },
  {
   "cell_type": "code",
   "execution_count": 143,
   "id": "a44bf9ed",
   "metadata": {},
   "outputs": [
    {
     "data": {
      "text/html": [
       "<div>\n",
       "<style scoped>\n",
       "    .dataframe tbody tr th:only-of-type {\n",
       "        vertical-align: middle;\n",
       "    }\n",
       "\n",
       "    .dataframe tbody tr th {\n",
       "        vertical-align: top;\n",
       "    }\n",
       "\n",
       "    .dataframe thead th {\n",
       "        text-align: right;\n",
       "    }\n",
       "</style>\n",
       "<table border=\"1\" class=\"dataframe\">\n",
       "  <thead>\n",
       "    <tr style=\"text-align: right;\">\n",
       "      <th></th>\n",
       "      <th>id</th>\n",
       "      <th>proba1</th>\n",
       "      <th>proba2</th>\n",
       "      <th>proba3</th>\n",
       "      <th>mean_rank</th>\n",
       "    </tr>\n",
       "  </thead>\n",
       "  <tbody>\n",
       "    <tr>\n",
       "      <th>0</th>\n",
       "      <td>1</td>\n",
       "      <td>0.148207</td>\n",
       "      <td>0.768743</td>\n",
       "      <td>0.32455</td>\n",
       "      <td>1.666667</td>\n",
       "    </tr>\n",
       "    <tr>\n",
       "      <th>1</th>\n",
       "      <td>2</td>\n",
       "      <td>0.118323</td>\n",
       "      <td>0.452743</td>\n",
       "      <td>0.42155</td>\n",
       "      <td>1.333333</td>\n",
       "    </tr>\n",
       "  </tbody>\n",
       "</table>\n",
       "</div>"
      ],
      "text/plain": [
       "   id    proba1    proba2   proba3  mean_rank\n",
       "0   1  0.148207  0.768743  0.32455   1.666667\n",
       "1   2  0.118323  0.452743  0.42155   1.333333"
      ]
     },
     "execution_count": 143,
     "metadata": {},
     "output_type": "execute_result"
    }
   ],
   "source": [
    "df"
   ]
  }
 ],
 "metadata": {
  "kernelspec": {
   "display_name": "Python 3 (ipykernel)",
   "language": "python",
   "name": "python3"
  },
  "language_info": {
   "codemirror_mode": {
    "name": "ipython",
    "version": 3
   },
   "file_extension": ".py",
   "mimetype": "text/x-python",
   "name": "python",
   "nbconvert_exporter": "python",
   "pygments_lexer": "ipython3",
   "version": "3.8.10"
  }
 },
 "nbformat": 4,
 "nbformat_minor": 5
}
